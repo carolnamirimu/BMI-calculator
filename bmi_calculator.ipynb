{
 "cells": [
  {
   "cell_type": "code",
   "execution_count": 1,
   "id": "04f29983-996f-4e3e-823c-a4d7fcfbc089",
   "metadata": {},
   "outputs": [
    {
     "name": "stdin",
     "output_type": "stream",
     "text": [
      "What is your name? carol\n",
      "Enter your weight in pounds: 47\n",
      "Enter your height in inches 52\n"
     ]
    },
    {
     "name": "stdout",
     "output_type": "stream",
     "text": [
      "12.21930473372781\n",
      "carol, Your are under weight\n"
     ]
    }
   ],
   "source": [
    "name = input('What is your name?')\n",
    "weight = int(input('Enter your weight in pounds:'))\n",
    "height = int(input('Enter your height in inches'))\n",
    "BMI = (weight * 703)/(height * height)\n",
    "print(BMI)\n",
    "\n",
    "\n",
    "if BMI>0:\n",
    "    if (BMI<18.5):\n",
    "          print(name+', '+'Your are under weight')\n",
    "    elif(BMI <= 24.9):\n",
    "        print(name+', '+'You are normal weight')\n",
    "    elif(BMI <= 29.9):\n",
    "        print(name+', '+'You are overweight')\n",
    "    elif(BMI <= 34.9):\n",
    "        print(name+ ', '+'You are Severly over weight')\n",
    "    elif(BMI <= 39.9):\n",
    "        print(name+ ', '+'you are mobidly obesse')\n",
    "    else:\n",
    "        print('Invalid entry')"
   ]
  },
  {
   "cell_type": "code",
   "execution_count": null,
   "id": "b73897a6-c516-4be6-a1fb-afcb74e438d3",
   "metadata": {},
   "outputs": [],
   "source": []
  },
  {
   "cell_type": "code",
   "execution_count": null,
   "id": "91d3ab1f-0899-4cb3-b2d8-f7ff3eb65abd",
   "metadata": {},
   "outputs": [],
   "source": []
  },
  {
   "cell_type": "code",
   "execution_count": null,
   "id": "256d0afa-11d1-48ad-95d0-91cce0c14c5e",
   "metadata": {},
   "outputs": [],
   "source": []
  },
  {
   "cell_type": "code",
   "execution_count": null,
   "id": "2611af13-ce3b-49a2-acf2-1ed2a3616d95",
   "metadata": {},
   "outputs": [],
   "source": []
  },
  {
   "cell_type": "code",
   "execution_count": null,
   "id": "7edacdd3-6d05-4fcb-9795-6106d7ed7f83",
   "metadata": {},
   "outputs": [],
   "source": []
  },
  {
   "cell_type": "code",
   "execution_count": null,
   "id": "7ed7310e-31ec-4f91-be62-fd043252fd7f",
   "metadata": {},
   "outputs": [],
   "source": []
  },
  {
   "cell_type": "code",
   "execution_count": null,
   "id": "96694925-65cb-4174-af55-bea29c3c79ce",
   "metadata": {},
   "outputs": [],
   "source": []
  }
 ],
 "metadata": {
  "kernelspec": {
   "display_name": "Python 3 (ipykernel)",
   "language": "python",
   "name": "python3"
  },
  "language_info": {
   "codemirror_mode": {
    "name": "ipython",
    "version": 3
   },
   "file_extension": ".py",
   "mimetype": "text/x-python",
   "name": "python",
   "nbconvert_exporter": "python",
   "pygments_lexer": "ipython3",
   "version": "3.11.7"
  }
 },
 "nbformat": 4,
 "nbformat_minor": 5
}
